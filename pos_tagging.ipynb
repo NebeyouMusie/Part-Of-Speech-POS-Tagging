{
  "nbformat": 4,
  "nbformat_minor": 0,
  "metadata": {
    "colab": {
      "provenance": []
    },
    "kernelspec": {
      "name": "python3",
      "display_name": "Python 3"
    },
    "language_info": {
      "name": "python"
    }
  },
  "cells": [
    {
      "cell_type": "markdown",
      "source": [
        "# Part Of Speech POS Tagging"
      ],
      "metadata": {
        "id": "zdUcD6-Xfart"
      }
    },
    {
      "cell_type": "code",
      "execution_count": 6,
      "metadata": {
        "id": "4eM9ig6Se5vT"
      },
      "outputs": [],
      "source": [
        "text = '''Inflation rose again in April, continuing a climb that has pushed consumers to the brink and is threatening the economic expansion, the Bureau of Labor Statistics reported Wednesday.\\n\\nThe consumer price index, a broad-based measure of prices for goods and services, increased 8.3% from a year ago, higher than the Dow Jones estimate for an 8.1% gain. That represented a slight ease from Marchâ€™s peak but was still close to the highest level since the summer of 1982.\\n\\nRemoving volatile food and ene'''"
      ]
    },
    {
      "cell_type": "markdown",
      "source": [
        "## Extract NOUN and NUM tokens"
      ],
      "metadata": {
        "id": "05B5pJLSfyCf"
      }
    },
    {
      "cell_type": "code",
      "source": [
        "# import spacy library\n",
        "import spacy\n",
        "nlp = spacy.load('en_core_web_sm')"
      ],
      "metadata": {
        "id": "FzHGFgiofye1"
      },
      "execution_count": 7,
      "outputs": []
    },
    {
      "cell_type": "code",
      "source": [
        "# create the object\n",
        "doc = nlp(text)\n",
        "\n",
        "noun_tokens = []\n",
        "num_tokens = []\n",
        "\n",
        "for token in doc:\n",
        "  if token.pos_ == 'NOUN':\n",
        "    noun_tokens.append(token)\n",
        "  elif token.pos_ == 'NUM':\n",
        "    num_tokens.append(token)"
      ],
      "metadata": {
        "id": "X81Xi2vKf8X3"
      },
      "execution_count": 8,
      "outputs": []
    },
    {
      "cell_type": "code",
      "source": [
        "# noun tokens\n",
        "noun_tokens"
      ],
      "metadata": {
        "colab": {
          "base_uri": "https://localhost:8080/"
        },
        "id": "jTfpxweGgb2F",
        "outputId": "6be2d335-0fd8-4929-b81d-02dd61a97cbe"
      },
      "execution_count": 10,
      "outputs": [
        {
          "output_type": "execute_result",
          "data": {
            "text/plain": [
              "[Inflation,\n",
              " climb,\n",
              " consumers,\n",
              " brink,\n",
              " expansion,\n",
              " consumer,\n",
              " price,\n",
              " index,\n",
              " measure,\n",
              " prices,\n",
              " goods,\n",
              " services,\n",
              " %,\n",
              " year,\n",
              " estimate,\n",
              " %,\n",
              " gain,\n",
              " ease,\n",
              " Marchâ€,\n",
              " ™,\n",
              " peak,\n",
              " level,\n",
              " summer,\n",
              " food,\n",
              " ene]"
            ]
          },
          "metadata": {},
          "execution_count": 10
        }
      ]
    },
    {
      "cell_type": "code",
      "source": [
        "# numerical tokens\n",
        "num_tokens"
      ],
      "metadata": {
        "colab": {
          "base_uri": "https://localhost:8080/"
        },
        "id": "ILeU5UPigsGD",
        "outputId": "65a24000-7612-4555-9ee8-957f3f86ab47"
      },
      "execution_count": 11,
      "outputs": [
        {
          "output_type": "execute_result",
          "data": {
            "text/plain": [
              "[8.3, 8.1, 1982]"
            ]
          },
          "metadata": {},
          "execution_count": 11
        }
      ]
    },
    {
      "cell_type": "markdown",
      "source": [
        "## Print a count of all POS tags"
      ],
      "metadata": {
        "id": "kOjQ_4YHg9Jk"
      }
    },
    {
      "cell_type": "code",
      "source": [
        "count = doc.count_by(spacy.attrs.POS)\n",
        "count"
      ],
      "metadata": {
        "colab": {
          "base_uri": "https://localhost:8080/"
        },
        "id": "rR_HOuWzg9wJ",
        "outputId": "d820596b-55fc-41fa-cee4-bbee4814b39d"
      },
      "execution_count": 12,
      "outputs": [
        {
          "output_type": "execute_result",
          "data": {
            "text/plain": [
              "{92: 25,\n",
              " 100: 9,\n",
              " 86: 4,\n",
              " 85: 11,\n",
              " 96: 7,\n",
              " 97: 9,\n",
              " 90: 12,\n",
              " 95: 2,\n",
              " 87: 3,\n",
              " 89: 4,\n",
              " 84: 6,\n",
              " 103: 2,\n",
              " 93: 3,\n",
              " 94: 1,\n",
              " 98: 1}"
            ]
          },
          "metadata": {},
          "execution_count": 12
        }
      ]
    },
    {
      "cell_type": "code",
      "source": [
        "for key, value in count.items():\n",
        "  print(doc.vocab[key].text, ' | ', value)"
      ],
      "metadata": {
        "colab": {
          "base_uri": "https://localhost:8080/"
        },
        "id": "ZVnFOgiMhECm",
        "outputId": "fce089fc-91d6-4ed7-df2c-8c2c2d46087e"
      },
      "execution_count": 15,
      "outputs": [
        {
          "output_type": "stream",
          "name": "stdout",
          "text": [
            "NOUN  |  25\n",
            "VERB  |  9\n",
            "ADV  |  4\n",
            "ADP  |  11\n",
            "PROPN  |  7\n",
            "PUNCT  |  9\n",
            "DET  |  12\n",
            "PRON  |  2\n",
            "AUX  |  3\n",
            "CCONJ  |  4\n",
            "ADJ  |  6\n",
            "SPACE  |  2\n",
            "NUM  |  3\n",
            "PART  |  1\n",
            "SCONJ  |  1\n"
          ]
        }
      ]
    }
  ]
}